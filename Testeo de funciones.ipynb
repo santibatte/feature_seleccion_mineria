{
 "cells": [
  {
   "cell_type": "markdown",
   "metadata": {},
   "source": [
    "## Tarea 3\n",
    "#### Equipo 6: Santiago Battezzati, Sergio Sánchez y Alfredo Lefranc"
   ]
  },
  {
   "cell_type": "code",
   "execution_count": 1,
   "metadata": {},
   "outputs": [],
   "source": [
    "# librerias necesarias\n",
    "from sklearn import datasets\n",
    "from sklearn.model_selection import train_test_split\n",
    "from sklearn.preprocessing import MinMaxScaler\n",
    "from sklearn.linear_model import LinearRegression\n",
    "import scipy.stats\n",
    "import scipy.stats\n",
    "import statistics as st\n",
    "import numpy as np\n",
    "import pandas as pd"
   ]
  },
  {
   "cell_type": "code",
   "execution_count": 4,
   "metadata": {},
   "outputs": [
    {
     "name": "stdout",
     "output_type": "stream",
     "text": [
      "False\n"
     ]
    }
   ],
   "source": [
    "pd.options.mode.chained_assignment = None  # default='warn'\n",
    "import warnings\n",
    "warnings.simplefilter(action='ignore', category=FutureWarning)\n",
    "print('x' in np.arange(5))   #returns False, without Warning"
   ]
  },
  {
   "cell_type": "code",
   "execution_count": 2,
   "metadata": {},
   "outputs": [],
   "source": [
    "# Base de ejemplo\n",
    "boston = datasets.load_boston()\n",
    "\n",
    "X = pd.DataFrame(data=boston.data, columns = boston['feature_names']) \n",
    "y = pd.DataFrame(boston.target)\n",
    "X_train, X_test, y_train, y_test = train_test_split(X,y)"
   ]
  },
  {
   "cell_type": "code",
   "execution_count": 5,
   "metadata": {
    "scrolled": true
   },
   "outputs": [
    {
     "name": "stdout",
     "output_type": "stream",
     "text": [
      "columns dropped:  ['CRIM', 'CHAS', 'B']\n",
      "NOX sobrepasa el umbral\n",
      "AGE sobrepasa el umbral\n",
      "DIS sobrepasa el umbral\n",
      "TAX sobrepasa el umbral\n",
      "Columnas borradas: ['NOX', 'AGE', 'DIS', 'TAX']\n",
      "Columnas borradas: ['INDUS', 'RM']\n",
      "Columnas borradas: []\n",
      "columnas del modelo seleccionado:  Index(['CRIM'], dtype='object')\n",
      "R cuadrado seleccionado es de:  0.5337761885389227\n",
      "columnas del modelo seleccionado:  Index(['CRIM', 'ZN'], dtype='object')\n",
      "R cuadrado seleccionado es de:  0.5301238007421429\n",
      "columnas del modelo seleccionado:  Index(['CRIM', 'ZN', 'INDUS'], dtype='object')\n",
      "R cuadrado seleccionado es de:  0.5296154294453219\n",
      "columnas del modelo seleccionado:  Index(['CRIM', 'ZN', 'INDUS', 'CHAS'], dtype='object')\n"
     ]
    }
   ],
   "source": [
    "# Corremos el archivo que contiene las funciones\n",
    "%run -i utils.py\n",
    "\n",
    "# Low variability\n",
    "lv = low_variability(X_train,0.4)\n",
    "\n",
    "# Correlation filtering\n",
    "c = correlation_filtering(X_train, 0.7)\n",
    "\n",
    "# Fast correlation based filtering\n",
    "fcb = FCB_filtering(X_train,y_train,0.6)\n",
    "\n",
    "# Forward selection\n",
    "fs = forward_selection(X,y,0.001)\n"
   ]
  },
  {
   "cell_type": "code",
   "execution_count": null,
   "metadata": {},
   "outputs": [],
   "source": []
  }
 ],
 "metadata": {
  "kernelspec": {
   "display_name": "Python 3",
   "language": "python",
   "name": "python3"
  },
  "language_info": {
   "codemirror_mode": {
    "name": "ipython",
    "version": 3
   },
   "file_extension": ".py",
   "mimetype": "text/x-python",
   "name": "python",
   "nbconvert_exporter": "python",
   "pygments_lexer": "ipython3",
   "version": "3.8.3"
  }
 },
 "nbformat": 4,
 "nbformat_minor": 4
}
