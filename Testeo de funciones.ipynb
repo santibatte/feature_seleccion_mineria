{
 "cells": [
  {
   "cell_type": "markdown",
   "metadata": {},
   "source": [
    "## Tarea 3\n",
    "#### Equipo 6: Santiago Battezzati, Sergio Sánchez y Alfredo Lefranc"
   ]
  },
  {
   "cell_type": "code",
   "execution_count": 23,
   "metadata": {},
   "outputs": [],
   "source": [
    "# librerias necesarias\n",
    "from sklearn import datasets\n",
    "from sklearn.model_selection import train_test_split\n",
    "from sklearn.preprocessing import MinMaxScaler\n",
    "from sklearn.linear_model import LinearRegression\n",
    "import scipy.stats\n",
    "import scipy.stats\n",
    "import statistics as st\n",
    "import numpy as np\n",
    "import pandas as pd"
   ]
  },
  {
   "cell_type": "code",
   "execution_count": 18,
   "metadata": {},
   "outputs": [],
   "source": [
    "# Base de ejemplo\n",
    "boston = datasets.load_boston()\n",
    "\n",
    "X = pd.DataFrame(data=boston.data, columns = boston['feature_names']) \n",
    "y = pd.DataFrame(boston.target)\n",
    "X_train, X_test, y_train, y_test = train_test_split(X,y)"
   ]
  },
  {
   "cell_type": "code",
   "execution_count": 25,
   "metadata": {
    "scrolled": true
   },
   "outputs": [
    {
     "name": "stdout",
     "output_type": "stream",
     "text": [
      "columns dropped:  ['CRIM', 'ZN', 'CHAS', 'B']\n",
      "NOX sobrepasa el umbral\n",
      "AGE sobrepasa el umbral\n",
      "DIS sobrepasa el umbral\n",
      "TAX sobrepasa el umbral\n",
      "Columnas borradas: ['NOX', 'AGE', 'DIS', 'TAX']\n",
      "Columnas borradas: ['INDUS', 'RM']\n",
      "Columnas borradas: []\n"
     ]
    }
   ],
   "source": [
    "# Corremos el archivo que contiene las funciones\n",
    "%run -i utils.py\n",
    "\n",
    "# Low variability\n",
    "lv = low_variability(X_train,0.4)\n",
    "\n",
    "# Correlation filtering\n",
    "c = correlation_filtering(X_train, 0.7)\n",
    "\n",
    "# Fast correlation based filtering\n",
    "fcb = FCB_filtering(X_train,y_train,0.6)\n",
    "\n",
    "# Forward selection\n",
    "fs = forward_selection(X,y,0.001)\n"
   ]
  }
 ],
 "metadata": {
  "kernelspec": {
   "display_name": "Python 3",
   "language": "python",
   "name": "python3"
  },
  "language_info": {
   "codemirror_mode": {
    "name": "ipython",
    "version": 3
   },
   "file_extension": ".py",
   "mimetype": "text/x-python",
   "name": "python",
   "nbconvert_exporter": "python",
   "pygments_lexer": "ipython3",
   "version": "3.8.5"
  }
 },
 "nbformat": 4,
 "nbformat_minor": 4
}
