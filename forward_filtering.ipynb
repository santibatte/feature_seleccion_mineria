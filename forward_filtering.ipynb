{
 "cells": [
  {
   "cell_type": "code",
   "execution_count": 1,
   "metadata": {},
   "outputs": [],
   "source": [
    "from sklearn import datasets\n",
    "import numpy as np\n",
    "import pandas as pd\n",
    "import statistics as st"
   ]
  },
  {
   "cell_type": "code",
   "execution_count": 11,
   "metadata": {},
   "outputs": [],
   "source": [
    "from sklearn.linear_model import LinearRegression\n",
    "from sklearn.model_selection import train_test_split"
   ]
  },
  {
   "cell_type": "code",
   "execution_count": 2,
   "metadata": {},
   "outputs": [],
   "source": [
    "boston = datasets.load_boston() "
   ]
  },
  {
   "cell_type": "code",
   "execution_count": 15,
   "metadata": {},
   "outputs": [],
   "source": [
    "X_train, X_test, y_train, y_test = train_test_split(boston.data, boston.target)"
   ]
  },
  {
   "cell_type": "code",
   "execution_count": null,
   "metadata": {},
   "outputs": [],
   "source": []
  },
  {
   "cell_type": "code",
   "execution_count": 6,
   "metadata": {},
   "outputs": [],
   "source": [
    "## Falta implementar Cross Validation "
   ]
  },
  {
   "cell_type": "code",
   "execution_count": 23,
   "metadata": {},
   "outputs": [
    {
     "data": {
      "text/plain": [
       "(379, 13)"
      ]
     },
     "execution_count": 23,
     "metadata": {},
     "output_type": "execute_result"
    }
   ],
   "source": [
    "X_train.shape"
   ]
  },
  {
   "cell_type": "code",
   "execution_count": 44,
   "metadata": {},
   "outputs": [
    {
     "data": {
      "text/plain": [
       "(379,)"
      ]
     },
     "execution_count": 44,
     "metadata": {},
     "output_type": "execute_result"
    }
   ],
   "source": [
    "X_train[:,3].shape"
   ]
  },
  {
   "cell_type": "code",
   "execution_count": 29,
   "metadata": {},
   "outputs": [],
   "source": [
    "modelo = LinearRegression()"
   ]
  },
  {
   "cell_type": "code",
   "execution_count": 97,
   "metadata": {},
   "outputs": [],
   "source": [
    "#coeficientes=[]\n",
    "\n",
    "#Tambien podria recibir simplemente el data frame y hacer el split adentro: \n",
    "\n",
    "def forward_selection(X=boston.data,y=boston.target,tol=0.1):\n",
    "    '''\n",
    "    Elije la mejor variable, una a la vez, para un modelo lineal, y va agregando variables. \n",
    "    Devuelve las columnas seleccionadas con sus datos, para el train y el test \n",
    "    '''\n",
    "    X_train, X_test, y_train, y_test = train_test_split(boston.data, boston.target)\n",
    "    \n",
    "    col_select_train= []\n",
    "    col_select_test = []\n",
    "    max_R_2 = 0.5\n",
    "    max_R_2_ant = 0\n",
    "    \n",
    "    while max_R_2 - max_R_2_ant > tol: # and X_train.shape[1] >= 0:\n",
    "    \n",
    "        for i in range (X_train.shape[1]):\n",
    "            R_cuadrado= []\n",
    "            \n",
    "            if len(col_select_train) == 0: \n",
    "                X_train_m= X_train[:,i][:, np.newaxis]\n",
    "                X_test_m = X_test[:,i] [:, np.newaxis]\n",
    "                \n",
    "            else: \n",
    "                X_train_m=np.column_stack((np.column_stack(col_select_train), X_train[:,i] )  )\n",
    "                X_test_m=np.column_stack(np.column_stack(col_select_test), X_test[:,i] )  \n",
    "\n",
    "            modelo=LinearRegression()\n",
    "            modelo.fit(X_train_m, y_train)\n",
    "            \n",
    "            #Voy agregando todos los R_cuadrados\n",
    "            R_cuadrado.append(modelo.score(X_test_m, y_test) ) \n",
    "        \n",
    "        \n",
    "        #Me quedo con el mejor R_Cuadrado: \n",
    "        max_R_2_ant = max_R_2\n",
    "        max_R_2 = max(R_cuadrado)\n",
    "        max_index = R_cuadrado.index(max_R_2)\n",
    "        \n",
    "        #Agrego la columna perteneciente al mejor R cuadrado a mis variables seleccionadas:\n",
    "        col_select_train.append(X_train[:,max_index])\n",
    "        col_select_test.append(X_test[:,max_index])\n",
    "         \n",
    "        ## Elimino la columna elegida de X_train y X_test para que no pueda volver a ser elegida\n",
    "        #X_train.drop(X_train[:,max_index])\n",
    "        #X_test.drop(X_test[:,max_index])\n",
    "        X_train = np.delete(X_train, max_index)\n",
    "        X_test = np.delete(X_test, max_index)\n",
    "    \n",
    "    return col_select_train, col_select_test\n",
    "\n",
    "\n",
    "## Luego hay que hacer un CORTE, de tolerancia, de cuanto tiene que ser la diferencia (seria un WHILE, tol <...)\n"
   ]
  },
  {
   "cell_type": "code",
   "execution_count": 100,
   "metadata": {},
   "outputs": [],
   "source": [
    "col_select, col_select_test = forward_selection()"
   ]
  },
  {
   "cell_type": "code",
   "execution_count": 105,
   "metadata": {},
   "outputs": [
    {
     "ename": "AttributeError",
     "evalue": "'list' object has no attribute 'shape'",
     "output_type": "error",
     "traceback": [
      "\u001b[0;31m---------------------------------------------------------------------------\u001b[0m",
      "\u001b[0;31mAttributeError\u001b[0m                            Traceback (most recent call last)",
      "\u001b[0;32m<ipython-input-105-9ea04187f348>\u001b[0m in \u001b[0;36m<module>\u001b[0;34m\u001b[0m\n\u001b[0;32m----> 1\u001b[0;31m \u001b[0mcol_select\u001b[0m\u001b[0;34m.\u001b[0m\u001b[0mshape\u001b[0m\u001b[0;34m\u001b[0m\u001b[0;34m\u001b[0m\u001b[0m\n\u001b[0m",
      "\u001b[0;31mAttributeError\u001b[0m: 'list' object has no attribute 'shape'"
     ]
    }
   ],
   "source": [
    "col_select.shape"
   ]
  },
  {
   "cell_type": "code",
   "execution_count": null,
   "metadata": {},
   "outputs": [],
   "source": [
    "## TENGO UN PROBLEMA tengo que ver como hacer el FIT y. todo eso... con mas de una variable... porqeu despues el MAX, no puede ser el MAX de la columna original... "
   ]
  },
  {
   "cell_type": "code",
   "execution_count": null,
   "metadata": {},
   "outputs": [],
   "source": [
    "\n",
    "\n",
    "modelo=LinearRegression()\n",
    "modelo.fit(X_train_m, y_train)\n",
    "\n",
    "\n"
   ]
  },
  {
   "cell_type": "code",
   "execution_count": 88,
   "metadata": {},
   "outputs": [
    {
     "data": {
      "text/plain": [
       "13"
      ]
     },
     "execution_count": 88,
     "metadata": {},
     "output_type": "execute_result"
    }
   ],
   "source": [
    "X_train.shape[1]"
   ]
  },
  {
   "cell_type": "code",
   "execution_count": 93,
   "metadata": {},
   "outputs": [
    {
     "data": {
      "text/plain": [
       "array([[1.54450e-01, 2.50000e+01, 5.13000e+00, ..., 1.97000e+01,\n",
       "        3.90680e+02, 6.86000e+00],\n",
       "       [1.58603e+01, 0.00000e+00, 1.81000e+01, ..., 2.02000e+01,\n",
       "        7.68000e+00, 2.43900e+01],\n",
       "       [3.58400e-02, 8.00000e+01, 3.37000e+00, ..., 1.61000e+01,\n",
       "        3.96900e+02, 4.67000e+00],\n",
       "       ...,\n",
       "       [3.83684e+00, 0.00000e+00, 1.81000e+01, ..., 2.02000e+01,\n",
       "        3.50650e+02, 1.41900e+01],\n",
       "       [9.82349e+00, 0.00000e+00, 1.81000e+01, ..., 2.02000e+01,\n",
       "        3.96900e+02, 2.12400e+01],\n",
       "       [4.89822e+00, 0.00000e+00, 1.81000e+01, ..., 2.02000e+01,\n",
       "        3.75520e+02, 3.26000e+00]])"
      ]
     },
     "execution_count": 93,
     "metadata": {},
     "output_type": "execute_result"
    }
   ],
   "source": [
    "X_train"
   ]
  },
  {
   "cell_type": "code",
   "execution_count": 96,
   "metadata": {},
   "outputs": [
    {
     "data": {
      "text/plain": [
       "13"
      ]
     },
     "execution_count": 96,
     "metadata": {},
     "output_type": "execute_result"
    }
   ],
   "source": [
    "X_train.shape[1]"
   ]
  },
  {
   "cell_type": "code",
   "execution_count": null,
   "metadata": {},
   "outputs": [],
   "source": []
  }
 ],
 "metadata": {
  "kernelspec": {
   "display_name": "Python 3",
   "language": "python",
   "name": "python3"
  },
  "language_info": {
   "codemirror_mode": {
    "name": "ipython",
    "version": 3
   },
   "file_extension": ".py",
   "mimetype": "text/x-python",
   "name": "python",
   "nbconvert_exporter": "python",
   "pygments_lexer": "ipython3",
   "version": "3.8.3"
  }
 },
 "nbformat": 4,
 "nbformat_minor": 4
}
